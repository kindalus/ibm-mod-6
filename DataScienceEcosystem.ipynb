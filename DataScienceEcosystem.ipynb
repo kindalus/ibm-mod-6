{
 "cells": [
  {
   "cell_type": "markdown",
   "id": "2f0a144d-28bb-4a63-a79f-4e9262f720c6",
   "metadata": {
    "tags": []
   },
   "source": [
    "<h1>Data Science Tools and Ecosystem</h1>"
   ]
  },
  {
   "cell_type": "markdown",
   "id": "367c55fb-a72b-4a39-9712-201b72a02cf8",
   "metadata": {},
   "source": [
    "In this notebook, Data Science Tools and Ecosystem are summarized.\n",
    "\n",
    "*Objectives*:\n",
    "- List popular languages for data science\n",
    "- List some data science libraries and tools \n",
    "- Show how to evaluate expressions in python"
   ]
  },
  {
   "cell_type": "markdown",
   "id": "64b01490-165e-4dcc-a630-b79a444d60e6",
   "metadata": {},
   "source": [
    "Some of the popular languages that Data Scientists use are:\n",
    "\n",
    "1. Python\n",
    "2. R\n",
    "3. Julia\n",
    "4. Java"
   ]
  },
  {
   "cell_type": "markdown",
   "id": "6a975e82-fbb1-401f-9c12-3b4041a27289",
   "metadata": {},
   "source": [
    "Some of the commonly used libraries used by Data Scientists include:\n",
    "- pandas\n",
    "- numpy\n",
    "- ggplot\n",
    "- scikit-learn\n",
    "- cartet"
   ]
  },
  {
   "cell_type": "markdown",
   "id": "57b29034-d962-42ec-9f84-7720ec23696a",
   "metadata": {},
   "source": [
    "|Data Science Tools|\n",
    "---\n",
    "|VSCode|\n",
    "|Jupyter Notebook|\n",
    "|RStudio|\n",
    "\n",
    "<h3>Below are a few examples of evaluating arithmetic expressions in Python.</h3>"
   ]
  },
  {
   "cell_type": "code",
   "execution_count": 1,
   "id": "bf0d2de5-1ddf-48ca-a815-cc88b77433d1",
   "metadata": {
    "tags": []
   },
   "outputs": [
    {
     "data": {
      "text/plain": [
       "17"
      ]
     },
     "execution_count": 1,
     "metadata": {},
     "output_type": "execute_result"
    }
   ],
   "source": [
    "# This a simple arithmeticexpression to mutiply then add integers.\n",
    "(3*4)+5\n"
   ]
  },
  {
   "cell_type": "code",
   "execution_count": 3,
   "id": "df94682f-037f-4ea5-b625-2c5934ebde93",
   "metadata": {
    "tags": []
   },
   "outputs": [
    {
     "data": {
      "text/plain": [
       "3.3333333333333335"
      ]
     },
     "execution_count": 3,
     "metadata": {},
     "output_type": "execute_result"
    }
   ],
   "source": [
    "# This will convert 200 minutes to hours by diving by 60\n",
    "minutes = 200\n",
    "hours = minutes / 60\n",
    "hours"
   ]
  },
  {
   "cell_type": "markdown",
   "id": "2b614ced-c2d4-4132-b1ab-19e962e0c5f9",
   "metadata": {},
   "source": [
    "<h2>Author</h2>\n",
    "Dzerjinski Lemos"
   ]
  },
  {
   "cell_type": "code",
   "execution_count": null,
   "id": "f7217e29-5573-409e-aa05-07d83b025287",
   "metadata": {},
   "outputs": [],
   "source": []
  }
 ],
 "metadata": {
  "kernelspec": {
   "display_name": "Python",
   "language": "python",
   "name": "conda-env-python-py"
  },
  "language_info": {
   "codemirror_mode": {
    "name": "ipython",
    "version": 3
   },
   "file_extension": ".py",
   "mimetype": "text/x-python",
   "name": "python",
   "nbconvert_exporter": "python",
   "pygments_lexer": "ipython3",
   "version": "3.7.12"
  }
 },
 "nbformat": 4,
 "nbformat_minor": 5
}
